{
 "cells": [
  {
   "cell_type": "code",
   "execution_count": 1,
   "id": "9333b346",
   "metadata": {},
   "outputs": [
    {
     "name": "stdout",
     "output_type": "stream",
     "text": [
      "            Customer_ID       Date     Hair_Services Total_Price\n",
      "Receipt_No                                                      \n",
      "#HM84051          80xxx 2023-01-01  Full-head colour      £88.54\n",
      "#HM84052          80xxx 2023-01-02     Cut & Blowdry     £131.14\n",
      "#HM84053          80xxx 2023-01-03     Cut & Blowdry     £173.52\n",
      "#HM84054          80xxx 2023-01-04    Braids & Waves     £154.37\n",
      "#HM84055          80xxx 2023-01-05    Braids & Waves     £124.39\n",
      "...                 ...        ...               ...         ...\n",
      "#HM8405996        80xxx 2025-09-22  Full-head colour     £136.65\n",
      "#HM8405997        80xxx 2025-09-23  Full-head colour     £163.46\n",
      "#HM8405998        80xxx 2025-09-24          Balayage      £66.88\n",
      "#HM8405999        80xxx 2025-09-25    Braids & Waves      £51.24\n",
      "#HM84051000       81xxx 2025-09-26          Balayage     £121.02\n",
      "\n",
      "[1000 rows x 4 columns]\n"
     ]
    }
   ],
   "source": [
    "import numpy as np\n",
    "import pandas as pd\n",
    "import random\n",
    "\n",
    "# Define the data for 1000 customers\n",
    "starting_customer_id = 80001\n",
    "customer_ids = [f'{starting_customer_id + i:04d}'[:-3] + 'xxx' for i in range(1000)]\n",
    "\n",
    "receipt_no = range(1, 1001)\n",
    "hm_receipt_no = [f'#HM8405{receipt}' for receipt in receipt_no]\n",
    "dates = pd.date_range(start='1/1/2023', periods=1000, freq='D')\n",
    "hair_services = ['Balayage', 'Full-head colour', 'Highlights', 'Braids & Waves', 'Cut & Blowdry']\n",
    "total_prices = [random.uniform(50, 200) for _ in range(1000)]\n",
    "total_prices = ['£' + str(round(x, 2)) for x in total_prices]\n",
    "\n",
    "# Create a dictionary for the DataFrame\n",
    "data = {\n",
    "    'Customer_ID': customer_ids,\n",
    "    'Receipt_No': hm_receipt_no,\n",
    "    'Date': dates,\n",
    "    'Hair_Services': [random.choice(hair_services) for _ in range(1000)],\n",
    "    'Total_Price': total_prices\n",
    "}\n",
    "\n",
    "# Create the DataFrame\n",
    "df = pd.DataFrame(data)\n",
    "\n",
    "# Set index to 'Receipt_No' and capitalize column names\n",
    "df = df.set_index('Receipt_No')\n",
    "\n",
    "# Save the DataFrame to a CSV file\n",
    "df.to_csv('Receipt_data.csv')\n",
    "\n",
    "print(df)\n"
   ]
  },
  {
   "cell_type": "code",
   "execution_count": 2,
   "id": "93d39b9b",
   "metadata": {},
   "outputs": [
    {
     "name": "stdout",
     "output_type": "stream",
     "text": [
      "          Customer_id  Customer_ratings Hair_stylist_names     Hair_services\n",
      "Rating_ID                                                                   \n",
      "100000         8001xx               3.0                Ava     Cut & Blowdry\n",
      "100001         8002xx               NaN           Samantha  Full-head colour\n",
      "100002         8003xx               4.0             Olivia          Balayage\n",
      "100003         8004xx               4.0                Mia          Balayage\n",
      "100004         8005xx               1.0           Isabella     Cut & Blowdry\n",
      "...               ...               ...                ...               ...\n",
      "100995         8996xx               3.0                Mia              None\n",
      "100996         8997xx               3.0                Mia    Braids & Waves\n",
      "100997         8998xx               1.0               None    Braids & Waves\n",
      "100998         8999xx               3.0           Samantha          Balayage\n",
      "100999         9000xx               5.0             Harper              None\n",
      "\n",
      "[1000 rows x 4 columns]\n"
     ]
    }
   ],
   "source": [
    "import random\n",
    "import numpy as np\n",
    "import pandas as pd\n",
    "\n",
    "# Define the data for 1000 customers\n",
    "starting_customer_id = 8001\n",
    "customer_ids = [f'{starting_customer_id + i:04d}xx' for i in range(1000)]\n",
    "\n",
    "hair_stylist_names = (['Jane', 'Samantha', 'Lauren', 'Sarah', 'Olivia', 'Isabella', 'Ava', 'Mia', 'Emma', 'Harper'])\n",
    "hair_services = (['Balayage', 'Full-head colour', 'Highlights', 'Braids & Waves', 'Cut & Blowdry'])\n",
    "\n",
    "# Generate Rating_IDs starting from 100001\n",
    "rating_ids = [f'{100000 + i:06d}' for i in range(1000)]\n",
    "\n",
    "Frontend_to_team_leader_data = {'Rating_ID': rating_ids,\n",
    "                                'Customer_ID': customer_ids,\n",
    "                                'Customer_Ratings': [random.randint(1, 5) if random.random() > 0.1 else None for _ in range(1000)],\n",
    "                                'Hair_Stylist_Names': [random.choice(hair_stylist_names) if random.random() > 0.1 else None for _ in range(1000)],\n",
    "                                'Hair_Services': [random.choice(hair_services) if random.random() > 0.1 else None for _ in range(1000)]}\n",
    "\n",
    "# Create the DataFrame\n",
    "df2 = pd.DataFrame(Frontend_to_team_leader_data)\n",
    "\n",
    "# Set 'Rating_ID' as index and capitalize column names\n",
    "df2 = df2.set_index('Rating_ID').rename(columns=str.capitalize)\n",
    "\n",
    "# Add some missing values\n",
    "rows_to_nan = random.sample(range(df2.shape[0]), int(df2.shape[0] * 0.1))  # 10% of rows will have missing values\n",
    "cols_to_nan = random.sample(df2.columns.tolist(), int(df2.shape[1] * 0.1))  # 10% of columns will have missing values\n",
    "df2.iloc[rows_to_nan, cols_to_nan] = np.nan\n",
    "\n",
    "# Save the DataFrame to a CSV file\n",
    "df2.to_csv('Ratings_data.csv')\n",
    "\n",
    "print(df2)\n"
   ]
  },
  {
   "cell_type": "code",
   "execution_count": 3,
   "id": "1c34a12c",
   "metadata": {},
   "outputs": [
    {
     "name": "stdout",
     "output_type": "stream",
     "text": [
      "             Customer_Names             Gender         Customer_Address\n",
      "Customer_ID                                                            \n",
      "8001xx        Charlie xxxxx             Female      123 Main St, London\n",
      "8002xx          David xxxxx  Prefer not to say   321 High St, Edinburgh\n",
      "8003xx          David xxxxx  Prefer not to say  456 Park St, Birmingham\n",
      "8004xx          Frank xxxxx               Male    234 Maple St, Bristol\n",
      "8005xx          Alice xxxxx             Female      123 Main St, London\n",
      "...                     ...                ...                      ...\n",
      "8996xx          Frank xxxxx  Prefer not to say   890 Elm St, Manchester\n",
      "8997xx       Jennifer xxxxx               Male   321 High St, Edinburgh\n",
      "8998xx            Bob xxxxx               Male      123 Main St, London\n",
      "8999xx          Alice xxxxx             Female     654 Pine St, Cardiff\n",
      "9000xx        Charlie xxxxx  Prefer not to say     654 Pine St, Cardiff\n",
      "\n",
      "[1000 rows x 3 columns]\n"
     ]
    }
   ],
   "source": [
    "import random\n",
    "import pandas as pd\n",
    "\n",
    "# Define the data for 1000 customers\n",
    "starting_customer_id = 8001\n",
    "customer_ids = [f'{starting_customer_id + i:04d}xx' for i in range(1000)]\n",
    "\n",
    "customer_names = (['Alice', 'Bob', 'Charlie', 'David', 'Eve', 'Frank', 'Grace', 'Helen', 'Igor', 'Jennifer'])\n",
    "genders = ['Male', 'Female', 'Prefer not to say']\n",
    "customer_address = (['123 Main St, London', '456 Park St, Birmingham', '789 Church St, Leeds', '321 High St, Edinburgh', '654 Pine St, Cardiff', '987 Oak St, Glasgow', '234 Maple St, Bristol', '567 Willow St, Liverpool', '890 Elm St, Manchester'])\n",
    "\n",
    "Frontend_to_team_leader_data = {'Customer_ID': customer_ids,\n",
    "                                'Customer_Names': [random.choice(customer_names) + ' xxxxx' for _ in range(1000)],\n",
    "                                'Gender': [random.choice(genders) for _ in range(1000)],\n",
    "                                'Customer_Address': [random.choice(customer_address) for _ in range(1000)]}\n",
    "\n",
    "# Create the DataFrame\n",
    "df1 = pd.DataFrame(Frontend_to_team_leader_data)\n",
    "\n",
    "# Set 'Customer_ID' as the index\n",
    "df3 = df1.set_index('Customer_ID')\n",
    "\n",
    "# Save the DataFrame to a CSV file\n",
    "df3.to_csv('Customer_data.csv')\n",
    "\n",
    "print(df3)\n"
   ]
  },
  {
   "cell_type": "code",
   "execution_count": null,
   "id": "79b64195",
   "metadata": {},
   "outputs": [],
   "source": []
  }
 ],
 "metadata": {
  "kernelspec": {
   "display_name": "Python 3 (ipykernel)",
   "language": "python",
   "name": "python3"
  },
  "language_info": {
   "codemirror_mode": {
    "name": "ipython",
    "version": 3
   },
   "file_extension": ".py",
   "mimetype": "text/x-python",
   "name": "python",
   "nbconvert_exporter": "python",
   "pygments_lexer": "ipython3",
   "version": "3.9.12"
  }
 },
 "nbformat": 4,
 "nbformat_minor": 5
}
